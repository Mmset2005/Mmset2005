{
 "cells": [
  {
   "cell_type": "markdown",
   "metadata": {},
   "source": [
    "<h2 class='fa fa-code' style=\"color: magenta\"> Sujet n°33</h2>"
   ]
  },
  {
   "cell_type": "markdown",
   "metadata": {},
   "source": [
    "<h2 class='fa fa-code' style=\"color: orange\"> Exercice n°1</h2>\n",
    "Consigne :\n",
    "On modélise la représentation binaire d'un entier non signé par un tableau d'entiers dont\n",
    "les éléments sont 0 ou 1.\n",
    "\n",
    "Par exemple, le tableau [1, 0, 1, 0, 0, 1, 1] représente\n",
    "l'écriture binaire de l'entier dont l'écriture décimale est\n",
    "2**6 + 2**4 + 2**1 + 2**0 = 83.\n",
    "\n",
    "À l'aide d'un parcours séquentiel, écrire la fonction convertir répondant aux\n",
    "spécifications suivantes :\n"
   ]
  },
  {
   "cell_type": "code",
   "execution_count": null,
   "metadata": {},
   "outputs": [],
   "source": [
    "def convertir(T):\n",
    " \"\"\"\n",
    " T est un tableau d'entiers, dont les éléments sont 0 ou 1 et\n",
    " représentant un entier écrit en binaire. Renvoie l'écriture\n",
    " décimale de l'entier positif dont la représentation binaire\n",
    " est donnée par le tableau T\n",
    " \"\"\""
   ]
  },
  {
   "cell_type": "markdown",
   "metadata": {},
   "source": [
    "Exemples :"
   ]
  },
  {
   "cell_type": "code",
   "execution_count": null,
   "metadata": {},
   "outputs": [],
   "source": [
    ">>> convertir([1, 0, 1, 0, 0, 1, 1])\n",
    "83\n",
    ">>> convertir([1, 0, 0, 0, 0, 0, 1, 0])\n",
    "130 "
   ]
  },
  {
   "cell_type": "markdown",
   "metadata": {},
   "source": [
    "Voici la solution que je propose :"
   ]
  },
  {
   "cell_type": "code",
   "execution_count": 9,
   "metadata": {},
   "outputs": [],
   "source": [
    "def convertir(T : list) -> int:\n",
    "    \"\"\"\n",
    "    Description : on prend en parametre une liste T d'entiers 1 ou 0 représentant un nombre en écriture binaire. Le script renvoie ensuite le nombre en écriture décimale\n",
    "\n",
    "    Exemple : convertir([1,0,1,0,1]) -> 21\n",
    "    convertir([1,0,0,0,1,0,1]) -> 69\n",
    "    convertir([0,1,1,0,1,0]) -> 26\n",
    "\n",
    "    Préconditions : La variable T doit êre une liste de 0 et de 1\n",
    "\n",
    "    Postconditions : la variable de sortie nb_decimal est un int\n",
    "    \"\"\"\n",
    "    nb_decimal = 0\n",
    "    for i in range(len(T)):\n",
    "        nb_decimal += T[i]*(2**(len(T)-(i+1)))\n",
    "    return nb_decimal"
   ]
  },
  {
   "cell_type": "markdown",
   "metadata": {},
   "source": [
    "Tests de l'énoncé :"
   ]
  },
  {
   "cell_type": "code",
   "execution_count": 10,
   "metadata": {},
   "outputs": [
    {
     "name": "stdout",
     "output_type": "stream",
     "text": [
      "83\n",
      "130\n"
     ]
    }
   ],
   "source": [
    "print(convertir([1, 0, 1, 0, 0, 1, 1]))\n",
    "\n",
    "print(convertir([1, 0, 0, 0, 0, 0, 1, 0]))"
   ]
  },
  {
   "cell_type": "markdown",
   "metadata": {},
   "source": [
    "<h2 class='fa fa-code' style=\"color: orange\"> Exercice n°2</h2>\n",
    "\n",
    "Consigne : La fonction tri_insertion suivante prend en argument une liste L et trie cette liste en\n",
    "utilisant la méthode du tri par insertion.\n",
    "\n",
    "Compléter cette fonction pour qu'elle réponde à la\n",
    "spécification demandée\n",
    "\n",
    "Code à compléter :"
   ]
  },
  {
   "cell_type": "code",
   "execution_count": null,
   "metadata": {},
   "outputs": [],
   "source": [
    "def tri_insertion(L):\n",
    "    n = len(L)\n",
    "    # cas du tableau vide\n",
    "    if ...:\n",
    "        return L\n",
    "    for j in range(1,n):\n",
    "        e = L[j]\n",
    "        i = j\n",
    "    # A l'étape j, le sous-tableau L[0,j-1] est trié\n",
    "    # et on insère L[j] dans ce sous-tableau en déterminant\n",
    "    \n",
    "    # le plus petit i tel que 0 <= i <= j et L[i-1] > L[j].\n",
    "    while i > 0 and L[i-1] > ...:\n",
    "        i = ...\n",
    "    # si i != j, on décale le sous tableau L[i,j-1] d’un cran\n",
    "    # vers la droite et on place L[j] en position i\n",
    "    if i != j:\n",
    "        for k in range(j,i,...):\n",
    "            L[k] = L[...]\n",
    "        L[i] = ...\n",
    "    return L"
   ]
  },
  {
   "cell_type": "markdown",
   "metadata": {},
   "source": [
    "On devra obtenir :"
   ]
  },
  {
   "cell_type": "code",
   "execution_count": null,
   "metadata": {},
   "outputs": [],
   "source": [
    ">>> tri_insertion([2,5,-1,7,0,28])\n",
    "[-1, 0, 2, 5, 7, 28]\n",
    "\n",
    ">>> tri_insertion([10,9,8,7,6,5,4,3,2,1,0])\n",
    "[0, 1, 2, 3, 4, 5, 6, 7, 8, 9, 10]"
   ]
  },
  {
   "cell_type": "markdown",
   "metadata": {},
   "source": [
    "Voici le code correctement complété :"
   ]
  },
  {
   "cell_type": "code",
   "execution_count": 23,
   "metadata": {},
   "outputs": [],
   "source": [
    "def tri_insertion(L):\n",
    "    n = len(L)\n",
    "    # cas du tableau vide\n",
    "    if L == []:\n",
    "        return L\n",
    "    for j in range(1,n):\n",
    "        e = L[j]\n",
    "        i = j\n",
    "        # A l'étape j, le sous-tableau L[0,j-1] est trié\n",
    "        # et on insère L[j] dans ce sous-tableau en déterminant\n",
    "        # le plus petit i tel que 0 <= i <= j et L[i-1] > L[j].\n",
    "        while i > 0 and L[i-1] > e:\n",
    "            i = i - 1\n",
    "        # si i != j, on décale le sous tableau L[i,j-1] d’un cran\n",
    "        # vers la droite et on place L[j] en position i\n",
    "        if i != j:\n",
    "            for k in range(j,i,-1):\n",
    "                L[k] = L[k-1]\n",
    "            L[i] = e\n",
    "    return L"
   ]
  },
  {
   "cell_type": "markdown",
   "metadata": {},
   "source": [
    "Tests de l'énoncé :"
   ]
  },
  {
   "cell_type": "code",
   "execution_count": 24,
   "metadata": {},
   "outputs": [
    {
     "name": "stdout",
     "output_type": "stream",
     "text": [
      "[-1, 0, 2, 5, 7, 28]\n",
      "[0, 1, 2, 3, 4, 5, 6, 7, 8, 9, 10]\n"
     ]
    }
   ],
   "source": [
    "print(tri_insertion([2,5,-1,7,0,28]))  \n",
    "\n",
    "print(tri_insertion([10,9,8,7,6,5,4,3,2,1,0]))"
   ]
  }
 ],
 "metadata": {
  "interpreter": {
   "hash": "541a81e03b13eaa79a244450bcd1bd0799da73b0d2f9839d7eb1ccb3ae4431f1"
  },
  "kernelspec": {
   "display_name": "Python 3.10.0 64-bit",
   "language": "python",
   "name": "python3"
  },
  "language_info": {
   "codemirror_mode": {
    "name": "ipython",
    "version": 3
   },
   "file_extension": ".py",
   "mimetype": "text/x-python",
   "name": "python",
   "nbconvert_exporter": "python",
   "pygments_lexer": "ipython3",
   "version": "3.10.0"
  },
  "orig_nbformat": 4
 },
 "nbformat": 4,
 "nbformat_minor": 2
}
