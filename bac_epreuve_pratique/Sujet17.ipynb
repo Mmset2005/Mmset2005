{
 "cells": [
  {
   "cell_type": "markdown",
   "metadata": {},
   "source": [
    "<h2 class='fa fa-code' style=\"color: magenta\"> Sujet n°17</h2>"
   ]
  },
  {
   "cell_type": "markdown",
   "metadata": {},
   "source": [
    "<h2 class='fa fa-code' style=\"color: orange\"> Exercice n°1</h2>\n",
    "Pour cet exercice :\n",
    "\n",
    "On appelle « mot » une chaîne de caractères composée avec des caractères choisis parmi les 26 lettres minuscules ou majuscules de l'alphabet,\n",
    "\n",
    "On appelle « phrase » une chaîne de caractères :\n",
    "\n",
    "- composée avec un ou plusieurs « mots » séparés entre eux par un seul caractère espace ' ',\n",
    " \n",
    "- se finissant :\n",
    " \n",
    "    soit par un point '.' qui est alors collé au dernier mot,\n",
    " \n",
    "    soit par un point d'exclamation '!' ou d'interrogation '?' qui est alors séparé du dernier mot par un seul caractère espace ' '.\n",
    "\n",
    "Exemples :"
   ]
  },
  {
   "cell_type": "code",
   "execution_count": null,
   "metadata": {},
   "outputs": [],
   "source": [
    ">>> nombre_de_mots('Le point d exclamation est separe !')\n",
    "6\n",
    ">>> nombre_de_mots('Il y a un seul espace entre les mots !')\n",
    "9"
   ]
  },
  {
   "cell_type": "markdown",
   "metadata": {},
   "source": [
    "Voici la solution que je propose :"
   ]
  },
  {
   "cell_type": "code",
   "execution_count": 4,
   "metadata": {},
   "outputs": [],
   "source": [
    "def nombre_de_mots(phrase : str) -> int:\n",
    "    \"\"\"\n",
    "    Description : on prend en parametre une phrase sous forme de chaine de carractère et renvoie le nombre de mots de cette phrase\n",
    "\n",
    "    Exemple : nombre_de_mots(Philipe je sais où tu te caches !) -> 7\n",
    "    nombre_de_mots(Moi Madara te déclare le plus fort d'entre tous !) -> 9\n",
    "    nombre_de_mots(bing chilling.) -> 2\n",
    "\n",
    "    Préconditions : - les mots sont séparés par un seul espaces ' '\n",
    "    - La phrase se finit par '.' , ' !' ou ' ?'\n",
    "\n",
    "    Postconditions : la variable de sortie compteur est un int\n",
    "    \"\"\"\n",
    "    compteur = 1\n",
    "    for i in phrase:\n",
    "        if i == ' ':\n",
    "            compteur += 1\n",
    "    if phrase[-1] == '!' or phrase[-1] == '?':\n",
    "        compteur -= 1\n",
    "    return compteur"
   ]
  },
  {
   "cell_type": "markdown",
   "metadata": {},
   "source": [
    "Tests de l'énoncé :"
   ]
  },
  {
   "cell_type": "code",
   "execution_count": 5,
   "metadata": {},
   "outputs": [
    {
     "name": "stdout",
     "output_type": "stream",
     "text": [
      "6\n",
      "9\n"
     ]
    }
   ],
   "source": [
    "print(nombre_de_mots('Le point d exclamation est separe !'))\n",
    "\n",
    "print(nombre_de_mots('Il y a un seul espace entre les mots !'))"
   ]
  },
  {
   "cell_type": "markdown",
   "metadata": {},
   "source": [
    "<h2 class='fa fa-code' style=\"color: orange\"> Exercice n°2</h2>\n",
    "\n",
    "Consigne : \n",
    "\n",
    "La classe ABR ci-dessous permet d'implémenter une structure d'arbre binaire de recherche."
   ]
  },
  {
   "cell_type": "code",
   "execution_count": 35,
   "metadata": {},
   "outputs": [],
   "source": [
    "class Noeud:\n",
    "    ''' Classe implémentant un noeud d'arbre binaire\n",
    "    disposant de 3 attributs :\n",
    "    - valeur : la valeur de l'étiquette,\n",
    "    - gauche : le sous-arbre gauche.\n",
    "    - droit : le sous-arbre droit. '''\n",
    "    def __init__(self, v, g, d):\n",
    "        self.valeur = v\n",
    "        self.gauche = g\n",
    "        self.droite = d\n",
    "\n",
    "class ABR:\n",
    "    ''' Classe implémentant une structure\n",
    "    d'arbre binaire de recherche. '''\n",
    "    def __init__(self):\n",
    "        '''Crée un arbre binaire de recherche vide'''\n",
    "        self.racine = None\n",
    "\n",
    "    def est_vide(self):\n",
    "        '''Renvoie True si l'ABR est vide et False sinon.'''\n",
    "        return self.racine is None\n",
    "\n",
    "    def parcours(self, tab = []):\n",
    "        ''' Renvoie la liste tab complétée avec tous les\n",
    "        éléments de l'ABR triés par ordre croissant. '''\n",
    "\n",
    "        if self.est_vide():\n",
    "            return tab\n",
    "        else:\n",
    "            self.racine.gauche.parcours(tab)\n",
    "            tab.append(...)\n",
    "            ...\n",
    "            return tab\n",
    "\n",
    "    def insere(self, element):\n",
    "        '''Insère un élément dans l'arbre binaire de recherche.'''\n",
    "        if self.est_vide():\n",
    "            self.racine = Noeud(element, ABR(), ABR())\n",
    "        else:\n",
    "            if element < self.racine.valeur:\n",
    "                self.racine.gauche.insere(element)\n",
    "            else :\n",
    "                self.racine.droite.insere(element)\n",
    "\n",
    "    def recherche_non_compléteé(self, element):\n",
    "        '''\n",
    "        Renvoie True si element est présent dans l'arbre\n",
    "        binaire et False sinon.\n",
    "        '''\n",
    "        if self.est_vide():\n",
    "            return ...\n",
    "        else:\n",
    "            if element < self.racine.valeur:\n",
    "                return ...\n",
    "            elif element > self.racine.valeur:\n",
    "                return ...\n",
    "            else:\n",
    "                return ..."
   ]
  },
  {
   "cell_type": "markdown",
   "metadata": {},
   "source": [
    "Compléter les fonctions récursives parcours et recherche afin qu'elles respectent leurs spécifications.\n",
    "\n",
    "Voici un exemple d'utilisation :"
   ]
  },
  {
   "cell_type": "code",
   "execution_count": 17,
   "metadata": {},
   "outputs": [
    {
     "data": {
      "text/plain": [
       "[1, 3, 7, 9, 9]"
      ]
     },
     "execution_count": 17,
     "metadata": {},
     "output_type": "execute_result"
    }
   ],
   "source": [
    "a = ABR()\n",
    "a.insere(7)\n",
    "a.insere(3)\n",
    "a.insere(9)\n",
    "a.insere(1)\n",
    "a.insere(9)\n",
    "a.parcours()\n",
    "[1,3, 7, 9, 9]"
   ]
  },
  {
   "cell_type": "code",
   "execution_count": null,
   "metadata": {},
   "outputs": [],
   "source": [
    ">>> a.recherche(4)\n",
    "False\n",
    "\n",
    ">>> a.recherche(3)\n",
    "True"
   ]
  },
  {
   "cell_type": "markdown",
   "metadata": {},
   "source": [
    "Voici le code correctement complété :"
   ]
  },
  {
   "cell_type": "code",
   "execution_count": 46,
   "metadata": {},
   "outputs": [],
   "source": [
    "class Noeud:\n",
    "    ''' Classe implémentant un noeud d'arbre binaire\n",
    "    disposant de 3 attributs :\n",
    "    - valeur : la valeur de l'étiquette,\n",
    "    - gauche : le sous-arbre gauche.\n",
    "    - droit : le sous-arbre droit. '''\n",
    "    def __init__(self, v, g, d):\n",
    "        self.valeur = v\n",
    "        self.gauche = g\n",
    "        self.droite = d\n",
    "\n",
    "class ABR:\n",
    "    ''' Classe implémentant une structure\n",
    "    d'arbre binaire de recherche. '''\n",
    "    def __init__(self):\n",
    "        '''Crée un arbre binaire de recherche vide'''\n",
    "        self.racine = None\n",
    "\n",
    "    def est_vide(self):\n",
    "        '''Renvoie True si l'ABR est vide et False sinon.'''\n",
    "        return self.racine is None\n",
    "\n",
    "    def parcours(self, tab = []):\n",
    "        ''' Renvoie la liste tab complétée avec tous les\n",
    "        éléments de l'ABR triés par ordre croissant. '''\n",
    "\n",
    "        if self.est_vide():\n",
    "            return tab\n",
    "        else:\n",
    "            self.racine.gauche.parcours(tab)\n",
    "            tab.append(self.racine.valeur)\n",
    "            self.racine.droite.parcours(tab)\n",
    "            return tab\n",
    "\n",
    "    def insere(self, element):\n",
    "        '''Insère un élément dans l'arbre binaire de recherche.'''\n",
    "        if self.est_vide():\n",
    "            self.racine = Noeud(element, ABR(), ABR())\n",
    "        else:\n",
    "            if element < self.racine.valeur:\n",
    "                self.racine.gauche.insere(element)\n",
    "            else :\n",
    "                self.racine.droite.insere(element)\n",
    "\n",
    "    def recherche(self, element):\n",
    "        '''\n",
    "        Renvoie True si element est présent dans l'arbre\n",
    "        binaire et False sinon.\n",
    "        '''\n",
    "        if self.est_vide():\n",
    "            return False\n",
    "        else:\n",
    "            if element < self.racine.valeur:\n",
    "                return self.racine.gauche.recherche(element)\n",
    "            elif element > self.racine.valeur:\n",
    "                return self.racine.droite.recherche(element)\n",
    "            else:\n",
    "                return True"
   ]
  },
  {
   "cell_type": "markdown",
   "metadata": {},
   "source": [
    "Tests de l'énoncé :"
   ]
  },
  {
   "cell_type": "code",
   "execution_count": 47,
   "metadata": {},
   "outputs": [
    {
     "data": {
      "text/plain": [
       "Ellipsis"
      ]
     },
     "execution_count": 47,
     "metadata": {},
     "output_type": "execute_result"
    }
   ],
   "source": [
    "a.recherche(4)\n",
    "\n",
    "a.recherche(3)"
   ]
  }
 ],
 "metadata": {
  "interpreter": {
   "hash": "a3d0e8e0c817ae3c7f78f66b04bafeb63523a0a50e6405ec1b074461715681e4"
  },
  "kernelspec": {
   "display_name": "Python 3.10.0 64-bit",
   "language": "python",
   "name": "python3"
  },
  "language_info": {
   "codemirror_mode": {
    "name": "ipython",
    "version": 3
   },
   "file_extension": ".py",
   "mimetype": "text/x-python",
   "name": "python",
   "nbconvert_exporter": "python",
   "pygments_lexer": "ipython3",
   "version": "3.10.0"
  },
  "orig_nbformat": 4
 },
 "nbformat": 4,
 "nbformat_minor": 2
}
