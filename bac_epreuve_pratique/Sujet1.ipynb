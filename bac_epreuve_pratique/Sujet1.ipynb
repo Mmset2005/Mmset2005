{
 "cells": [
  {
   "cell_type": "markdown",
   "metadata": {},
   "source": [
    "<h2 class='fa fa-code' style=\"color: magenta\"> Sujet n°1</h2>"
   ]
  },
  {
   "cell_type": "markdown",
   "metadata": {},
   "source": [
    "<h2 class='fa fa-code' style=\"color: orange\"> Exercice n°1</h2>\n",
    "Consigne :\n",
    "Écrire une fonction recherche qui prend en paramètres caractere, un caractère, et mot, une chaîne de caractères, et qui renvoie le nombre d’occurrences de caractere dans mot, c’est-à-dire le nombre de fois où caractere apparaît dans mot.\n",
    "\n",
    "Exemples :"
   ]
  },
  {
   "cell_type": "code",
   "execution_count": null,
   "metadata": {},
   "outputs": [],
   "source": [
    ">>> recherche('e', \"sciences\")\n",
    "2\n",
    ">>> recherche('i',\"mississippi\")\n",
    "4\n",
    ">>> recherche('a',\"mississippi\")\n",
    "0"
   ]
  },
  {
   "cell_type": "markdown",
   "metadata": {},
   "source": [
    "Voici la solution que je propose :"
   ]
  },
  {
   "cell_type": "code",
   "execution_count": 10,
   "metadata": {},
   "outputs": [],
   "source": [
    "def recherche(caractere : str,mot : str):\n",
    "    \"\"\"\n",
    "    Description : on prend en parametre un mot et un cacartere et le programme renvoie l'occurence du caractere dans le mot\n",
    "\n",
    "    Exemple : recherche(zubat,t) -> 1\n",
    "    recherche(madara,a) -> 3\n",
    "    recherche(christiano ronaldo,f) -> 0\n",
    "\n",
    "    Préconditions : les entreés caractere et mot doivent toutes deux etre des chaînes de caractères et en minuscules\n",
    "\n",
    "    Postconditions : la variable de sortie compteur est un int\n",
    "    \"\"\"\n",
    "    compteur = 0\n",
    "    for lettre in mot:\n",
    "        if lettre == caractere:\n",
    "            compteur += 1\n",
    "    return compteur"
   ]
  },
  {
   "cell_type": "markdown",
   "metadata": {},
   "source": [
    "Tests de l'énoncé :"
   ]
  },
  {
   "cell_type": "code",
   "execution_count": 6,
   "metadata": {},
   "outputs": [
    {
     "name": "stdout",
     "output_type": "stream",
     "text": [
      "2\n",
      "4\n",
      "0\n"
     ]
    }
   ],
   "source": [
    "print(recherche('e', \"sciences\"))\n",
    "\n",
    "print(recherche('i',\"mississippi\"))\n",
    "\n",
    "print(recherche('a',\"mississippi\"))"
   ]
  },
  {
   "cell_type": "markdown",
   "metadata": {},
   "source": [
    "<h2 class='fa fa-code' style=\"color: orange\"> Exercice n°2</h2>\n",
    "\n",
    "Consigne : On s’intéresse à un algorithme récursif qui permet de rendre la monnaie à partir d’une liste donnée de valeurs de pièces et de billets.\n",
    "\n",
    "Le système monétaire est donné sous forme d’une liste pieces=[100, 50, 20, 10, 5, 2, 1]. (on supposera qu’il n’y a pas de limitation quant à leur nombre).\n",
    "\n",
    "On cherche à donner la liste de pièces à rendre pour une somme donnée en argument. Compléter le code Python ci-dessous de la fonction rendu_glouton qui implémente cet algorithme et renvoie la liste des pièces à rendre.\n",
    "\n",
    "Code à compléter :"
   ]
  },
  {
   "cell_type": "code",
   "execution_count": null,
   "metadata": {},
   "outputs": [],
   "source": [
    "pieces = [100,50,20,10,5,2,1]\n",
    "def rendu_glouton(arendre, solution=[], i=0):\n",
    "    if arendre == 0:\n",
    "        return ...\n",
    "    p = pieces[i]\n",
    "    if p <= ... :\n",
    "        solution.append(...)\n",
    "        return rendu_glouton(arendre - p, solution,i)\n",
    "    else :\n",
    "        return rendu_glouton(arendre, solution, ...)"
   ]
  },
  {
   "cell_type": "markdown",
   "metadata": {},
   "source": [
    "On devra obtenir :"
   ]
  },
  {
   "cell_type": "code",
   "execution_count": null,
   "metadata": {},
   "outputs": [],
   "source": [
    ">>> rendu_glouton(68, [], 0)  \n",
    "[50, 10, 5, 2, 1]\n",
    "\n",
    ">>> rendu_glouton(291, [], 0) \n",
    "[100, 100, 50, 20, 20, 1]"
   ]
  },
  {
   "cell_type": "markdown",
   "metadata": {},
   "source": [
    "Voici le code correctement complété :"
   ]
  },
  {
   "cell_type": "code",
   "execution_count": 4,
   "metadata": {},
   "outputs": [],
   "source": [
    "pieces = [100,50,20,10,5,2,1]\n",
    "def rendu_glouton(arendre, solution=[], i=0):\n",
    "    if arendre == 0:\n",
    "        return solution\n",
    "    p = pieces[i]\n",
    "    if p <= arendre :\n",
    "        solution.append(p)\n",
    "        return rendu_glouton(arendre - p, solution,i)\n",
    "    else :\n",
    "        return rendu_glouton(arendre, solution, i+1)"
   ]
  },
  {
   "cell_type": "markdown",
   "metadata": {},
   "source": [
    "Tests de l'énoncé :"
   ]
  },
  {
   "cell_type": "code",
   "execution_count": 5,
   "metadata": {},
   "outputs": [
    {
     "name": "stdout",
     "output_type": "stream",
     "text": [
      "[50, 10, 5, 2, 1]\n",
      "[100, 100, 50, 20, 20, 1]\n"
     ]
    }
   ],
   "source": [
    "print(rendu_glouton(68, [], 0))  \n",
    "\n",
    "print(rendu_glouton(291, [], 0))"
   ]
  },
  {
   "cell_type": "markdown",
   "metadata": {},
   "source": [
    "Comme précisé dans l'énoncé, ce code est écrit de manière récursive.\n",
    "\n",
    "Mais, une version ittérative existe et je l'ai d'ailleurs étudiée l'année dernière.\n",
    "\n",
    "Voici sa version finale et fonctionelle:"
   ]
  },
  {
   "cell_type": "code",
   "execution_count": 6,
   "metadata": {},
   "outputs": [],
   "source": [
    "pieces = [100,50,20,10,5,2,1]\n",
    "def rendu_itératif(arendre):\n",
    "    solution = []\n",
    "    for i in pieces:\n",
    "        nb_pieces = arendre//i\n",
    "        arendre = arendre%i\n",
    "        for k in range(nb_pieces): \n",
    "            solution.append(i)\n",
    "    return solution"
   ]
  },
  {
   "cell_type": "code",
   "execution_count": 8,
   "metadata": {},
   "outputs": [
    {
     "name": "stdout",
     "output_type": "stream",
     "text": [
      "[50, 10, 5, 2, 1]\n",
      "[100, 100, 50, 20, 20, 1]\n"
     ]
    }
   ],
   "source": [
    "print(rendu_itératif(68))\n",
    "\n",
    "print(rendu_itératif(291))"
   ]
  },
  {
   "cell_type": "markdown",
   "metadata": {},
   "source": [
    "Pour un rendu de pieces, la méthode la plus largement utilisée est l'algorithme glouton (les deux scripts ci-dessus sont gloutons) pour rappel un algo glouton est un algo qui améliore son \"score\" a chaque étape sans forcément avoir le \"score\" optimal au final. Comment pouvons nous donc être sur d'avoir un rendu de pieces optimal ?\n",
    "C'est pour cela que les systèmes monétaires du monde entier sont cannoniques. Plus concretement cela signifie que les valeurs des pieces et billets qu'ils utilisent permettent un rendu optimal lors de l'utilisation d'un algorithme glouton."
   ]
  },
  {
   "cell_type": "markdown",
   "metadata": {},
   "source": [
    "Imaginons un système monétaire fictif non cannonique qui aurait pour pieces : ( 1 ; 3 ; 4 ; 7 ) :"
   ]
  },
  {
   "cell_type": "code",
   "execution_count": 4,
   "metadata": {},
   "outputs": [
    {
     "data": {
      "text/plain": [
       "[(2, 7), (1, 4), (0, 3), (2, 1)]"
      ]
     },
     "execution_count": 4,
     "metadata": {},
     "output_type": "execute_result"
    }
   ],
   "source": [
    "pieces = [7,4,3,1]\n",
    "rendu_itératif(20)"
   ]
  },
  {
   "cell_type": "markdown",
   "metadata": {},
   "source": [
    "On voit ici que le nombre total de pieces rendues est de 5, or si on rend 2 pieces de 7 et deux de trois il n'y en a que 4.\n",
    "On voit donc bien l'importance d'avoir un systeme monétaire cannonique pour éviter ce genre d'erreur"
   ]
  }
 ],
 "metadata": {
  "interpreter": {
   "hash": "541a81e03b13eaa79a244450bcd1bd0799da73b0d2f9839d7eb1ccb3ae4431f1"
  },
  "kernelspec": {
   "display_name": "Python 3.10.0 64-bit",
   "language": "python",
   "name": "python3"
  },
  "language_info": {
   "codemirror_mode": {
    "name": "ipython",
    "version": 3
   },
   "file_extension": ".py",
   "mimetype": "text/x-python",
   "name": "python",
   "nbconvert_exporter": "python",
   "pygments_lexer": "ipython3",
   "version": "3.10.0"
  },
  "orig_nbformat": 4
 },
 "nbformat": 4,
 "nbformat_minor": 2
}
