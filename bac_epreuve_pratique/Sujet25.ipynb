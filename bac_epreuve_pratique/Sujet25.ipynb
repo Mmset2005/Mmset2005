{
 "cells": [
  {
   "cell_type": "markdown",
   "metadata": {},
   "source": [
    "<h2 class='fa fa-code' style=\"color: magenta\"> Sujet n°25</h2>"
   ]
  },
  {
   "cell_type": "markdown",
   "metadata": {},
   "source": [
    "<h2 class='fa fa-code' style=\"color: orange\"> Exercice n°1</h2>\n",
    "Consigne : \n",
    "\n",
    "On considère des tables (des tableaux de dictionnaires) qui contiennent des enregistrements relatifs à des animaux hébergés dans un refuge. Les attributs des enregistrements sont 'nom', 'espece', 'age', 'enclos'. Voici un exemple d'une telle table :"
   ]
  },
  {
   "cell_type": "code",
   "execution_count": 1,
   "metadata": {},
   "outputs": [],
   "source": [
    "animaux = [ {'nom':'Medor', 'espece':'chien', 'age':5, 'enclos':2},\n",
    "            {'nom':'Titine', 'espece':'chat', 'age':2, 'enclos':5},\n",
    "            {'nom':'Tom', 'espece':'chat', 'age':7, 'enclos':4},\n",
    "            {'nom':'Belle', 'espece':'chien', 'age':6, 'enclos':3},\n",
    "            {'nom':'Mirza', 'espece':'chat', 'age':6, 'enclos':5}]"
   ]
  },
  {
   "cell_type": "markdown",
   "metadata": {},
   "source": [
    "Programmer une fonction selection_enclos qui prend en paramètres :\n",
    "\n",
    "- une table table_animaux contenant des enregistrements relatifs à des animaux (comme dans l'exemple ci-dessus)\n",
    "\n",
    "- un numéro d'enclos num_enclos\n",
    "\n",
    "Et qui renvoie une table contenant les enregistrements de table_animaux dont l'attribut 'enclos' est num_enclos\n",
    "\n",
    "\n",
    "Exemple avec la table animaux ci dessus :"
   ]
  },
  {
   "cell_type": "code",
   "execution_count": null,
   "metadata": {},
   "outputs": [],
   "source": [
    ">>> selection_enclos(animaux, 5)\n",
    "[{'nom':'Titine', 'espece':'chat', 'age':2, 'enclos':5},\n",
    " {'nom':'Mirza', 'espece':'chat', 'age':6, 'enclos':5}]\n",
    "\n",
    ">>> selection_enclos(animaux, 2)\n",
    "[{'nom':'Medor', 'espece':'chien', 'age':5, 'enclos':2}]\n",
    "\n",
    ">>> selection_enclos(animaux, 7)\n",
    "[]"
   ]
  },
  {
   "cell_type": "markdown",
   "metadata": {},
   "source": [
    "Voici la solution que je propose :"
   ]
  },
  {
   "cell_type": "code",
   "execution_count": 14,
   "metadata": {},
   "outputs": [],
   "source": [
    "def selection_enclos(table_animaux : list, num_enclos : int)-> list :\n",
    "    liste_animaux = []\n",
    "    for animal in range(len(table_animaux)) :\n",
    "        if table_animaux[animal]['enclos'] == num_enclos :\n",
    "            liste_animaux.append(table_animaux[animal])\n",
    "    return liste_animaux"
   ]
  },
  {
   "cell_type": "markdown",
   "metadata": {},
   "source": [
    "Tests de l'énoncé :"
   ]
  },
  {
   "cell_type": "code",
   "execution_count": 28,
   "metadata": {},
   "outputs": [
    {
     "data": {
      "text/plain": [
       "[{'nom': 'Titine', 'espece': 'chat', 'age': 2, 'enclos': 5},\n",
       " {'nom': 'Mirza', 'espece': 'chat', 'age': 6, 'enclos': 5}]"
      ]
     },
     "execution_count": 28,
     "metadata": {},
     "output_type": "execute_result"
    }
   ],
   "source": [
    "selection_enclos(animaux, 5)"
   ]
  },
  {
   "cell_type": "code",
   "execution_count": 29,
   "metadata": {},
   "outputs": [
    {
     "data": {
      "text/plain": [
       "[{'nom': 'Medor', 'espece': 'chien', 'age': 5, 'enclos': 2}]"
      ]
     },
     "execution_count": 29,
     "metadata": {},
     "output_type": "execute_result"
    }
   ],
   "source": [
    "selection_enclos(animaux, 2)"
   ]
  },
  {
   "cell_type": "code",
   "execution_count": 30,
   "metadata": {},
   "outputs": [
    {
     "data": {
      "text/plain": [
       "[]"
      ]
     },
     "execution_count": 30,
     "metadata": {},
     "output_type": "execute_result"
    }
   ],
   "source": [
    "selection_enclos(animaux, 7)"
   ]
  },
  {
   "cell_type": "markdown",
   "metadata": {},
   "source": [
    "<h2 class='fa fa-code' style=\"color: orange\"> Exercice n°2</h2>\n",
    "\n",
    "Consigne :\n",
    "On considère des tableaux de nombres dont tous les éléments sont présents exactement trois fois et à suivre, sauf un élément qui est présent une unique fois et que l'on appelle « l'intrus ». Voici quelques exemples :"
   ]
  },
  {
   "cell_type": "code",
   "execution_count": null,
   "metadata": {},
   "outputs": [],
   "source": [
    "tab_a = [3, 3, 3, 9, 9, 9, 1, 1, 1, 7, 2, 2, 2, 4, 4, 4, 8, 8, 8, 5, 5, 5]\n",
    "#l'intrus est 7\n",
    "\n",
    "tab_b = [8, 5, 5, 5, 9, 9, 9, 18, 18, 18, 3, 3, 3]\n",
    "#l'intrus est 8\n",
    "\n",
    "tab_c = [5, 5, 5, 1, 1, 1, 0, 0, 0, 6, 6, 6, 3, 8, 8, 8]\n",
    "#l'intrus est 3"
   ]
  },
  {
   "cell_type": "markdown",
   "metadata": {},
   "source": [
    "On remarque qu'avec de tels tableaux :\n",
    "\n",
    "- pour les indices multiples de 3 situés strictement avant l'intrus, l'élément correspondant et son voisin de droite sont égaux,\n",
    "\n",
    "- pour les indices multiples de 3 situés après l'intrus, l'élément correspondant et son voisin de droite - s'il existe - sont différents.\n",
    "\n",
    "Ce que l'on peut observer ci-dessous en observant les valeurs des paires de voisins marquées par des caractères ^ :"
   ]
  },
  {
   "cell_type": "code",
   "execution_count": null,
   "metadata": {},
   "outputs": [],
   "source": [
    "[3, 3, 3, 9, 9, 9, 1, 1, 1, 7, 2, 2, 2, 4, 4, 4, 8, 8, 8, 5, 5, 5]\n",
    " ^  ^     ^  ^     ^  ^     ^  ^     ^  ^     ^  ^     ^  ^     ^\n",
    " 0        3        6        9        12       15       18       21"
   ]
  },
  {
   "cell_type": "markdown",
   "metadata": {},
   "source": [
    "Dans des listes comme celles ci-dessus, un algorithme récursif pour trouver l'intrus consiste alors à choisir un indice i multiple de 3 situé approximativement au milieu des indices parmi lesquels se trouve l'intrus.\n",
    "\n",
    "Puis, en fonction des valeurs de l'élément d'indice i et de son voisin de droite, à appliquer récursivement l'algorithme à la moitié droite ou à la moitié gauche des indices parmi lesquels se trouve l'intrus.\n",
    "\n",
    "Compléter la fonction ci-dessous qui met en œuvre cet algorithme."
   ]
  },
  {
   "cell_type": "markdown",
   "metadata": {},
   "source": [
    "Voici le code non complété :"
   ]
  },
  {
   "cell_type": "code",
   "execution_count": null,
   "metadata": {},
   "outputs": [],
   "source": [
    "def trouver_intrus(tab, g, d):\n",
    "    '''\n",
    "    Renvoie la valeur de l'intrus situé entre les indices g et d \n",
    "    dans la liste tab où \n",
    "    tab vérifie les conditions de l'exercice,\n",
    "        g et d sont des multiples de 3.\n",
    "    '''\n",
    "    if g == d:\n",
    "        return ...\n",
    "\n",
    "    else:\n",
    "        nombre_de_triplets = (d - g) // ...\n",
    "        indice = g + 3 * (nombre_de_triplets // 2)\n",
    "        if ... :\n",
    "            return ...\n",
    "        else:\n",
    "            return ..."
   ]
  },
  {
   "cell_type": "markdown",
   "metadata": {},
   "source": [
    "Exemples :"
   ]
  },
  {
   "cell_type": "code",
   "execution_count": null,
   "metadata": {},
   "outputs": [],
   "source": [
    ">>> trouver_intrus([3, 3, 3, 9, 9, 9, 1, 1, 1, 7, 2, 2, 2, 4, 4, 4, 8, 8,\n",
    "8, 5, 5, 5], 0, 21)\n",
    "7\n",
    "\n",
    ">>> trouver_intrus([8, 5, 5, 5, 9, 9, 9, 18, 18, 18, 3, 3, 3], 0, 12)\n",
    "8\n",
    "\n",
    ">>> trouver_intrus([5, 5, 5, 1, 1, 1, 0, 0, 0, 6, 6, 6, 3, 8, 8, 8], 0, 15)\n",
    "3"
   ]
  },
  {
   "cell_type": "markdown",
   "metadata": {},
   "source": [
    "Voici le code correctement complété :"
   ]
  },
  {
   "cell_type": "code",
   "execution_count": 22,
   "metadata": {},
   "outputs": [],
   "source": [
    "def trouver_intrus(tab, g, d):\n",
    "    '''\n",
    "    Renvoie la valeur de l'intrus situé entre les indices g et d \n",
    "    dans la liste tab où \n",
    "    tab vérifie les conditions de l'exercice,\n",
    "        g et d sont des multiples de 3.\n",
    "    '''\n",
    "    if g == d:\n",
    "        return tab[g]\n",
    "\n",
    "    else:\n",
    "        nombre_de_triplets = (d - g) // 3\n",
    "        indice = g + 3 * (nombre_de_triplets // 2)\n",
    "        if tab[indice] == tab[indice+1] :\n",
    "            return trouver_intrus(tab, indice + 3, d)\n",
    "        else:\n",
    "            return trouver_intrus(tab, g, indice)"
   ]
  },
  {
   "cell_type": "markdown",
   "metadata": {},
   "source": [
    "Tests de l'énoncé :"
   ]
  },
  {
   "cell_type": "code",
   "execution_count": 23,
   "metadata": {},
   "outputs": [
    {
     "data": {
      "text/plain": [
       "7"
      ]
     },
     "execution_count": 23,
     "metadata": {},
     "output_type": "execute_result"
    }
   ],
   "source": [
    "trouver_intrus([3, 3, 3, 9, 9, 9, 1, 1, 1, 7, 2, 2, 2, 4, 4, 4, 8, 8,8, 5, 5, 5], 0, 21)"
   ]
  },
  {
   "cell_type": "code",
   "execution_count": 24,
   "metadata": {},
   "outputs": [
    {
     "data": {
      "text/plain": [
       "8"
      ]
     },
     "execution_count": 24,
     "metadata": {},
     "output_type": "execute_result"
    }
   ],
   "source": [
    "trouver_intrus([8, 5, 5, 5, 9, 9, 9, 18, 18, 18, 3, 3, 3], 0, 12)"
   ]
  },
  {
   "cell_type": "code",
   "execution_count": 25,
   "metadata": {},
   "outputs": [
    {
     "data": {
      "text/plain": [
       "3"
      ]
     },
     "execution_count": 25,
     "metadata": {},
     "output_type": "execute_result"
    }
   ],
   "source": [
    "trouver_intrus([5, 5, 5, 1, 1, 1, 0, 0, 0, 6, 6, 6, 3, 8, 8, 8], 0, 15)"
   ]
  }
 ],
 "metadata": {
  "interpreter": {
   "hash": "a3d0e8e0c817ae3c7f78f66b04bafeb63523a0a50e6405ec1b074461715681e4"
  },
  "kernelspec": {
   "display_name": "Python 3.10.0 64-bit",
   "language": "python",
   "name": "python3"
  },
  "language_info": {
   "codemirror_mode": {
    "name": "ipython",
    "version": 3
   },
   "file_extension": ".py",
   "mimetype": "text/x-python",
   "name": "python",
   "nbconvert_exporter": "python",
   "pygments_lexer": "ipython3",
   "version": "3.10.0"
  },
  "orig_nbformat": 4
 },
 "nbformat": 4,
 "nbformat_minor": 2
}
