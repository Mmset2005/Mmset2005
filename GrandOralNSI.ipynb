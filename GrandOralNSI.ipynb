{
 "cells": [
  {
   "cell_type": "markdown",
   "metadata": {},
   "source": [
    "<h1 class='fa fa-code' style=\"color: Darkred\"> Sujet : L'IA</h1>"
   ]
  },
  {
   "cell_type": "markdown",
   "metadata": {},
   "source": [
    "<h4 class='fa fa-code' style=\"color: Brown\"> Intro sur Histoire de l'IA (Turing, algo et autres)</h4>\n",
    "\n",
    "\n",
    "A faire "
   ]
  },
  {
   "cell_type": "markdown",
   "metadata": {},
   "source": [
    "<h4 class='fa fa-code' style=\"color: Brown\"> Trouver une problématique</h4>\n",
    "\n",
    "- L'IA existe-t-elle réellement ? \n",
    "\n",
    "- Qu’est-ce que l’IA ?\n",
    "\n",
    "- autre..."
   ]
  },
  {
   "cell_type": "markdown",
   "metadata": {},
   "source": [
    "<h4 class='fa fa-code' style=\"color: Brown\"> Principe de classification des niveaux d’intelligences </h4>\n",
    "\n",
    "Rédiger une explication simplifée"
   ]
  },
  {
   "cell_type": "markdown",
   "metadata": {},
   "source": [
    "<h3 class='fa fa-code' style=\"color: Gold\"> Exemple concret : PAC MAN </h3>\n",
    "\n",
    "- rapide présentation du jeu (chercher des infos; ex : dates, chiffres, créateurs, etc...)\n",
    "\n",
    "- explications sur comportement des fantomes (paske personne sait ca en ft)\n",
    "\n",
    "- raprochement avec le sujet"
   ]
  },
  {
   "cell_type": "markdown",
   "metadata": {},
   "source": [
    "<h3 class='fa fa-code' style=\"color: Silver\"> Fantome 0 :</h3>"
   ]
  },
  {
   "cell_type": "code",
   "execution_count": null,
   "metadata": {
    "vscode": {
     "languageId": "plaintext"
    }
   },
   "outputs": [],
   "source": [
    "liste des fonctions pré-existantes: (j'aurais pu les faire mais ca aurait pris trop de temps + impossible a expliquer à l'oral)\n",
    "- start() : le fantome commence a avnacer\n",
    "- stop() : le fantome s'arrete\n",
    "- vers_gauche() : le fantome se déplace maintenant vers la gauche\n",
    "- vers_droite() : le fantome se déplace maintenant vers la droite\n",
    "- vers_haut(): le fantome se déplace maintenant vers le haut\n",
    "- vers_bas(): le fantome se déplace maintenant vers le bas \n",
    "- mur(direction) : renvoie True si il y a un mur dans la direction mise en paramètre\n",
    "- sur_carrefour() : renvoie True si le fantome se trouve sur un carrefour\n",
    "\n",
    "def liste_passages():\n",
    "    directions = [Gauche,Droite,Haut,Bas]\n",
    "    passages = []\n",
    "    for i in directions :\n",
    "    if not mur(i):\n",
    "        passages.append(i)\n",
    "    return passages"
   ]
  },
  {
   "cell_type": "markdown",
   "metadata": {},
   "source": [
    "<h5 class='fa fa-code' style=\"color: Gold\"> Passage a la POO </h5>\n",
    "\n",
    "Création classe Fantome"
   ]
  },
  {
   "cell_type": "code",
   "execution_count": null,
   "metadata": {
    "vscode": {
     "languageId": "plaintext"
    }
   },
   "outputs": [],
   "source": [
    "def "
   ]
  },
  {
   "cell_type": "markdown",
   "metadata": {},
   "source": [
    "Dans PAC MAN chaque fantome agit différement, les codes ci dessous sont des représentations de leurs mouvements, il est impossible de recréer le jeu sur une si petite feuille\n",
    "\n",
    "Tout les fantomes sont des objets de type fantome et possèdent donc les attributs et méthodes de cette dernière "
   ]
  },
  {
   "cell_type": "markdown",
   "metadata": {},
   "source": [
    "<h3 class='fa fa-code' style=\"color: Orange\"> Clyde :</h3>"
   ]
  },
  {
   "cell_type": "code",
   "execution_count": null,
   "metadata": {
    "vscode": {
     "languageId": "plaintext"
    }
   },
   "outputs": [],
   "source": [
    "#code Clyde"
   ]
  },
  {
   "cell_type": "markdown",
   "metadata": {},
   "source": [
    "<h3 class='fa fa-code' style=\"color: Cyan\"> Inky :</h3>"
   ]
  },
  {
   "cell_type": "code",
   "execution_count": null,
   "metadata": {
    "vscode": {
     "languageId": "plaintext"
    }
   },
   "outputs": [],
   "source": [
    "#code Inky"
   ]
  },
  {
   "cell_type": "markdown",
   "metadata": {},
   "source": [
    "<h3 class='fa fa-code' style=\"color: Red\"> Blinky :</h3>"
   ]
  },
  {
   "cell_type": "code",
   "execution_count": null,
   "metadata": {
    "vscode": {
     "languageId": "plaintext"
    }
   },
   "outputs": [],
   "source": [
    "#code Blinky"
   ]
  },
  {
   "cell_type": "markdown",
   "metadata": {},
   "source": [
    "<h3 class='fa fa-code' style=\"color: Magenta\"> Pinky :</h3>"
   ]
  },
  {
   "cell_type": "code",
   "execution_count": null,
   "metadata": {
    "vscode": {
     "languageId": "plaintext"
    }
   },
   "outputs": [],
   "source": [
    "#code Pinky"
   ]
  },
  {
   "cell_type": "markdown",
   "metadata": {},
   "source": [
    "On constate ici une difference entre les fantomes, certains ont l'air plus \"intelligents\" que d'autres\n",
    "\n",
    "Mais cette apparente intelligence n'existe pas, rapellez vous les fantomes sont tout les 4 des objets de meme type, leur seule différence est l'algorithme qu'ils exexutent\n",
    "\n",
    "C'est cette différence de comportement qui fait penser a de l'intelligence mais ce n'en est absolument pas"
   ]
  },
  {
   "cell_type": "markdown",
   "metadata": {},
   "source": [
    "<h4 class='fa fa-code' style=\"color: Brown\"> Autres pistes a explorer</h4>\n",
    "\n",
    "- film WARGAMES\n",
    "\n",
    "- jeu de nim\n",
    "\n",
    "- Deep blue (jeu de go)\n",
    "\n",
    "- autres jeu (dammes, échec)"
   ]
  }
 ],
 "metadata": {
  "kernelspec": {
   "display_name": "Python 3",
   "language": "python",
   "name": "python3"
  },
  "language_info": {
   "codemirror_mode": {
    "name": "ipython",
    "version": 3
   },
   "file_extension": ".py",
   "mimetype": "text/x-python",
   "name": "python",
   "nbconvert_exporter": "python",
   "pygments_lexer": "ipython3",
   "version": "3.10.0"
  },
  "toc": {
   "base_numbering": 1,
   "nav_menu": {},
   "number_sections": true,
   "sideBar": true,
   "skip_h1_title": false,
   "title_cell": "Table of Contents",
   "title_sidebar": "Contents",
   "toc_cell": false,
   "toc_position": {},
   "toc_section_display": true,
   "toc_window_display": false
  },
  "varInspector": {
   "cols": {
    "lenName": 16,
    "lenType": 16,
    "lenVar": 40
   },
   "kernels_config": {
    "python": {
     "delete_cmd_postfix": "",
     "delete_cmd_prefix": "del ",
     "library": "var_list.py",
     "varRefreshCmd": "print(var_dic_list())"
    },
    "r": {
     "delete_cmd_postfix": ") ",
     "delete_cmd_prefix": "rm(",
     "library": "var_list.r",
     "varRefreshCmd": "cat(var_dic_list()) "
    }
   },
   "types_to_exclude": [
    "module",
    "function",
    "builtin_function_or_method",
    "instance",
    "_Feature"
   ],
   "window_display": false
  }
 },
 "nbformat": 4,
 "nbformat_minor": 4
}
