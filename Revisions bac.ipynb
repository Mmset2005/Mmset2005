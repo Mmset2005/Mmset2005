{
 "cells": [
  {
   "cell_type": "markdown",
   "metadata": {},
   "source": [
    "<h2 class='fa fa-code' style=\"color: orange\"> Exercice n°4</h2>"
   ]
  },
  {
   "cell_type": "markdown",
   "metadata": {},
   "source": [
    "<h2 class='fa fa-code' style=\"color: orange\"> Exercice n°5</h2>"
   ]
  },
  {
   "cell_type": "markdown",
   "metadata": {},
   "source": [
    "Question n°1 :\n",
    "\n",
    "Écrire une fonction taille(x) qui renvoie le nombre de chiffres de l’entier x lorsqu’il\n",
    "est écrit en base 2"
   ]
  },
  {
   "cell_type": "code",
   "execution_count": 4,
   "metadata": {},
   "outputs": [],
   "source": [
    "def taille(x):\n",
    "    n = 0\n",
    "    while 2**n <= x:\n",
    "        n += 1\n",
    "    return n"
   ]
  },
  {
   "cell_type": "code",
   "execution_count": 42,
   "metadata": {},
   "outputs": [
    {
     "data": {
      "text/plain": [
       "5"
      ]
     },
     "execution_count": 42,
     "metadata": {},
     "output_type": "execute_result"
    }
   ],
   "source": [
    "taille(16)"
   ]
  },
  {
   "cell_type": "markdown",
   "metadata": {},
   "source": [
    "Question n°2 :\n",
    "\n",
    "Écrire une fonction karatsuba(x, y, n) qui calcule le produit de x et y par la méthode de Karatsuba, en supposant que x et y s’écrivent sur n chiffres en base 2"
   ]
  },
  {
   "cell_type": "code",
   "execution_count": 35,
   "metadata": {},
   "outputs": [],
   "source": [
    "def karatsuba(x,y,n):\n",
    "    assert taille(x) == taille(y) == n\n",
    "    a, b = x >> n, x % (1<<n)\n",
    "    c, d = y >> n, y % (1<<n)\n",
    "    return (2**(1<<n)) * (a*c) + (1<<n) * ((a*c) + (b*d) - (a - b) * (c - d)) + b*d\n",
    "    "
   ]
  },
  {
   "cell_type": "code",
   "execution_count": 43,
   "metadata": {},
   "outputs": [
    {
     "data": {
      "text/plain": [
       "272"
      ]
     },
     "execution_count": 43,
     "metadata": {},
     "output_type": "execute_result"
    }
   ],
   "source": [
    "karatsuba(16,17,taille(16))"
   ]
  },
  {
   "cell_type": "markdown",
   "metadata": {},
   "source": [
    "Question n°3:\n",
    "\n",
    "En déduire une fonction mult(x, y) qui calcule le produit de x et y"
   ]
  },
  {
   "cell_type": "code",
   "execution_count": 46,
   "metadata": {},
   "outputs": [],
   "source": [
    "def mult(x,y):\n",
    "    X = taille(x)\n",
    "    Y = taille(y) \n",
    "    a, b = x >> X, x % (1<<X)\n",
    "    c, d = y >> Y, y % (1<<X)\n",
    "    return ((1<<X)*(1<<Y))*(a*c) + (1<<X)*(a*d) + (1<<Y)*(b*c) + b*d "
   ]
  },
  {
   "cell_type": "code",
   "execution_count": 48,
   "metadata": {},
   "outputs": [
    {
     "data": {
      "text/plain": [
       "384"
      ]
     },
     "execution_count": 48,
     "metadata": {},
     "output_type": "execute_result"
    }
   ],
   "source": [
    "mult(16,24)"
   ]
  },
  {
   "cell_type": "markdown",
   "metadata": {},
   "source": [
    "<h2 class='fa fa-code' style=\"color: orange\"> Exercice n°6</h2>"
   ]
  },
  {
   "cell_type": "markdown",
   "metadata": {},
   "source": [
    "Question 1 : étude d’un exemple d’itération de l’algorithme\n",
    "\n",
    "(a) La solution trouvée est [ 4 , 4 ], elle setrouve à la dernière cellule de nb_pieces\n",
    "\n",
    "(b) Toutes celles qui ont une valeur inférieure a 4\n",
    "\n",
    "(c) 5,6 et 7 soit celles qui ony une valeur supérieure ou égale a 5 et ou la somme de pieces est mieux optimisée\n",
    "\n",
    "(d) si p plus grosse pice de nb_piece, alors nb_pieces[ j ] = nb_piece[ j - p ] + 1"
   ]
  },
  {
   "cell_type": "markdown",
   "metadata": {},
   "source": [
    "Question 2 : initialisation de la liste nb_pieces"
   ]
  },
  {
   "cell_type": "code",
   "execution_count": 1,
   "metadata": {},
   "outputs": [],
   "source": [
    "def piece21(s):\n",
    "    nb_piece = []\n",
    "    for i in range(s):\n",
    "        nb_piece.append(i)\n",
    "    return nb_piece"
   ]
  },
  {
   "cell_type": "markdown",
   "metadata": {},
   "source": [
    "Question 3 : programmer la boucle interne"
   ]
  },
  {
   "cell_type": "code",
   "execution_count": null,
   "metadata": {},
   "outputs": [],
   "source": [
    "def rendre_monnaie(P, s)  :\n",
    "\n",
    "\n",
    "def mettre_a_jour(nb_piece:list, max_p:int):\n",
    "    s = len(nb_piece)\n",
    "    for j in range(s):\n",
    "        if rendre_monnaie(P,j):\n",
    "            pass\n",
    "         \n",
    "\n"
   ]
  },
  {
   "cell_type": "code",
   "execution_count": 3,
   "metadata": {},
   "outputs": [],
   "source": [
    "def moneyback_dyn(amount, coins):\n",
    "    n = len(coins)\n",
    "    least_coins = [[float('inf')] * (amount + 1) for _ in range(n)]\n",
    "    for sub_amount in range(amount + 1): \n",
    "        if sub_amount % coins[0] == 0: \n",
    "            least_coins[0][sub_amount] = sub_amount #  coins[0]\n",
    "    for i in range(1, n): \n",
    "        for j in range(amount + 1):\n",
    "            least_coins[i][j] = least_coins[i - 1][j] \n",
    "            if coins[i] <= j: \n",
    "                if least_coins[i][j - coins[i]] + 1 < least_coins[i][j]:\n",
    "                    least_coins[i][j] = least_coins[i][j - coins[i]] + 1\n",
    "    chosen = [0] * n\n",
    "    j = amount\n",
    "    i = n - 1\n",
    "    while j: \n",
    "        if j >= coins[i]:\n",
    "            if least_coins[i][j - coins[i]] + 1 == least_coins[i][j]: \n",
    "                chosen[i] += 1 \n",
    "                j -= coins[i] \n",
    "                continue \n",
    "        i -= 1\n",
    "    return chosen"
   ]
  },
  {
   "cell_type": "code",
   "execution_count": 4,
   "metadata": {},
   "outputs": [
    {
     "data": {
      "text/plain": [
       "[0, 2, 0]"
      ]
     },
     "execution_count": 4,
     "metadata": {},
     "output_type": "execute_result"
    }
   ],
   "source": [
    "moneyback_dyn(8,[1,4,5])"
   ]
  }
 ],
 "metadata": {
  "kernelspec": {
   "display_name": "Python 3",
   "language": "python",
   "name": "python3"
  },
  "language_info": {
   "codemirror_mode": {
    "name": "ipython",
    "version": 3
   },
   "file_extension": ".py",
   "mimetype": "text/x-python",
   "name": "python",
   "nbconvert_exporter": "python",
   "pygments_lexer": "ipython3",
   "version": "3.10.0"
  },
  "toc": {
   "base_numbering": 1,
   "nav_menu": {},
   "number_sections": true,
   "sideBar": true,
   "skip_h1_title": false,
   "title_cell": "Table of Contents",
   "title_sidebar": "Contents",
   "toc_cell": false,
   "toc_position": {},
   "toc_section_display": true,
   "toc_window_display": false
  },
  "varInspector": {
   "cols": {
    "lenName": 16,
    "lenType": 16,
    "lenVar": 40
   },
   "kernels_config": {
    "python": {
     "delete_cmd_postfix": "",
     "delete_cmd_prefix": "del ",
     "library": "var_list.py",
     "varRefreshCmd": "print(var_dic_list())"
    },
    "r": {
     "delete_cmd_postfix": ") ",
     "delete_cmd_prefix": "rm(",
     "library": "var_list.r",
     "varRefreshCmd": "cat(var_dic_list()) "
    }
   },
   "types_to_exclude": [
    "module",
    "function",
    "builtin_function_or_method",
    "instance",
    "_Feature"
   ],
   "window_display": false
  }
 },
 "nbformat": 4,
 "nbformat_minor": 4
}
