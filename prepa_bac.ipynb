{
 "cells": [
  {
   "cell_type": "code",
   "execution_count": null,
   "metadata": {},
   "outputs": [],
   "source": [
    "pour l'instant c'est vide, suite prochainement (ou pas ICANT)"
   ]
  },
  {
   "cell_type": "markdown",
   "metadata": {},
   "source": [
    "<h2 class='fa fa-code' style=\"color: magenta\"> Sujet n°1 </h1>"
   ]
  },
  {
   "cell_type": "code",
   "execution_count": null,
   "metadata": {},
   "outputs": [],
   "source": [
    "#EXERCICE 1\n",
    "\n",
    "def recherche(caractere,mot):\n",
    "    x = 0\n",
    "    for i in mot:\n",
    "        if i == caractere:\n",
    "            x += 1\n",
    "    return x\n",
    "\n",
    "# x est la variable qui permet de compter le nombre de fois où le caractere appariat dans le mot"
   ]
  },
  {
   "cell_type": "code",
   "execution_count": null,
   "metadata": {},
   "outputs": [],
   "source": [
    "#EXERCICE 2\n",
    "\n",
    "# consigne code a compléter, code original:\n",
    "pieces = [100,50,20,10,5,2,1] # \n",
    "def rendu_glouton(arendre, solution=[], i=0):\n",
    "    if arendre == 0:\n",
    "        return ...\n",
    "    p = pieces[i]\n",
    "    if p <= ... :\n",
    "        solution.append(...)\n",
    "        return rendu_glouton(arendre - p, solution,i)\n",
    "    else :\n",
    "        return rendu_glouton(arendre, solution, ...)\n",
    "\n",
    "\n",
    "# code complété:\n",
    "pieces = [100,50,20,10,5,2,1] # \n",
    "def rendu_glouton(arendre, solution=[], i=0):\n",
    "    if arendre == 0:\n",
    "        return solution\n",
    "    p = pieces[i]\n",
    "    if p <= arendre :\n",
    "        solution.append(p)\n",
    "        return rendu_glouton(arendre - p, solution,i)\n",
    "    else :\n",
    "        return rendu_glouton(arendre, solution, i+1)"
   ]
  },
  {
   "cell_type": "code",
   "execution_count": null,
   "metadata": {},
   "outputs": [],
   "source": [
    "# Le code ci-dessus est écrit de façon récursive, voici une version ittérative pour comparer\n",
    "\n",
    "pieces = [100,50,20,10,5,2,1]\n",
    "def rendu_itératif(arendre):\n",
    "    solution = []\n",
    "    for i in pieces:\n",
    "        q = arendre//i\n",
    "        arendre = arendre%i\n",
    "        solution.append((q,i))\n",
    "    return solution\n",
    "\n",
    "# on renvoie une liste de tuples avec le premier élément étant la valeur du billet et la deuxième le nombre de billets de cette valeur"
   ]
  }
 ],
 "metadata": {
  "language_info": {
   "name": "python"
  },
  "orig_nbformat": 4
 },
 "nbformat": 4,
 "nbformat_minor": 2
}
